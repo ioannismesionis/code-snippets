{
 "cells": [
  {
   "cell_type": "code",
   "execution_count": 1,
   "metadata": {},
   "outputs": [],
   "source": [
    "# Import the toml package\n",
    "import toml"
   ]
  },
  {
   "cell_type": "code",
   "execution_count": 2,
   "metadata": {},
   "outputs": [],
   "source": [
    "# Get the toml config\n",
    "def read_toml_config(path):\n",
    "    return toml.load(path)"
   ]
  },
  {
   "cell_type": "code",
   "execution_count": 3,
   "metadata": {},
   "outputs": [
    {
     "data": {
      "text/plain": [
       "{'BASE-SYNTAX': {'key1': 'my_value',\n",
       "  'key2': 4,\n",
       "  'key3': [1, 2, 3],\n",
       "  'key4': {'key': 'value'}},\n",
       " 'INDENTATION': {'LEVEL1': {'data': [[1, 2, 3], [3, 4, 5]]},\n",
       "  'LEVEL2': {'some_str': 'some_str_values',\n",
       "   'other_str': ['toml', 'is', 'perfect']}}}"
      ]
     },
     "execution_count": 3,
     "metadata": {},
     "output_type": "execute_result"
    }
   ],
   "source": [
    "# Set Path\n",
    "PATH='config.toml'\n",
    "\n",
    "# Read the config file\n",
    "CONFIG = read_toml_config(PATH)\n",
    "CONFIG"
   ]
  },
  {
   "cell_type": "markdown",
   "metadata": {},
   "source": [
    "### Basic Syntax"
   ]
  },
  {
   "cell_type": "code",
   "execution_count": 4,
   "metadata": {},
   "outputs": [
    {
     "data": {
      "text/plain": [
       "{'key1': 'my_value', 'key2': 4, 'key3': [1, 2, 3], 'key4': {'key': 'value'}}"
      ]
     },
     "execution_count": 4,
     "metadata": {},
     "output_type": "execute_result"
    }
   ],
   "source": [
    "CONFIG['BASE-SYNTAX']"
   ]
  },
  {
   "cell_type": "markdown",
   "metadata": {},
   "source": [
    "### Dictionary Values"
   ]
  },
  {
   "cell_type": "code",
   "execution_count": 5,
   "metadata": {},
   "outputs": [
    {
     "data": {
      "text/plain": [
       "{'LEVEL1': {'data': [[1, 2, 3], [3, 4, 5]]},\n",
       " 'LEVEL2': {'some_str': 'some_str_values',\n",
       "  'other_str': ['toml', 'is', 'perfect']}}"
      ]
     },
     "execution_count": 5,
     "metadata": {},
     "output_type": "execute_result"
    }
   ],
   "source": [
    "CONFIG['INDENTATION']"
   ]
  },
  {
   "cell_type": "markdown",
   "metadata": {},
   "source": [
    "### Indentation"
   ]
  },
  {
   "cell_type": "code",
   "execution_count": 6,
   "metadata": {},
   "outputs": [
    {
     "data": {
      "text/plain": [
       "{'data': [[1, 2, 3], [3, 4, 5]]}"
      ]
     },
     "execution_count": 6,
     "metadata": {},
     "output_type": "execute_result"
    }
   ],
   "source": [
    "CONFIG['INDENTATION']['LEVEL1']"
   ]
  }
 ],
 "metadata": {
  "interpreter": {
   "hash": "ac928d85886161343f44c093ac8b1c8e127c4c42da493aaa7b5bb7af014a946e"
  },
  "kernelspec": {
   "display_name": "Python 3.8.9 ('venv': venv)",
   "language": "python",
   "name": "python3"
  },
  "language_info": {
   "codemirror_mode": {
    "name": "ipython",
    "version": 3
   },
   "file_extension": ".py",
   "mimetype": "text/x-python",
   "name": "python",
   "nbconvert_exporter": "python",
   "pygments_lexer": "ipython3",
   "version": "3.8.9"
  },
  "orig_nbformat": 4
 },
 "nbformat": 4,
 "nbformat_minor": 2
}
