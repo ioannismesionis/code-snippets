{
 "cells": [
  {
   "cell_type": "code",
   "execution_count": 1,
   "metadata": {},
   "outputs": [],
   "source": [
    "# Import packages\n",
    "import pandas as pd\n",
    "import numpy as np\n",
    "\n",
    "# Import Deepchecks packages\n"
   ]
  },
  {
   "cell_type": "code",
   "execution_count": 12,
   "metadata": {},
   "outputs": [
    {
     "data": {
      "text/html": [
       "<div>\n",
       "<style scoped>\n",
       "    .dataframe tbody tr th:only-of-type {\n",
       "        vertical-align: middle;\n",
       "    }\n",
       "\n",
       "    .dataframe tbody tr th {\n",
       "        vertical-align: top;\n",
       "    }\n",
       "\n",
       "    .dataframe thead th {\n",
       "        text-align: right;\n",
       "    }\n",
       "</style>\n",
       "<table border=\"1\" class=\"dataframe\">\n",
       "  <thead>\n",
       "    <tr style=\"text-align: right;\">\n",
       "      <th></th>\n",
       "      <th>col1</th>\n",
       "      <th>col2</th>\n",
       "      <th>label</th>\n",
       "    </tr>\n",
       "  </thead>\n",
       "  <tbody>\n",
       "    <tr>\n",
       "      <th>0</th>\n",
       "      <td>1</td>\n",
       "      <td>2.0</td>\n",
       "      <td>y1</td>\n",
       "    </tr>\n",
       "    <tr>\n",
       "      <th>1</th>\n",
       "      <td>1.0</td>\n",
       "      <td>NaN</td>\n",
       "      <td>y2</td>\n",
       "    </tr>\n",
       "    <tr>\n",
       "      <th>2</th>\n",
       "      <td>3</td>\n",
       "      <td>6</td>\n",
       "      <td>y3</td>\n",
       "    </tr>\n",
       "  </tbody>\n",
       "</table>\n",
       "</div>"
      ],
      "text/plain": [
       "  col1 col2 label\n",
       "0    1  2.0    y1\n",
       "1  1.0  NaN    y2\n",
       "2    3    6    y3"
      ]
     },
     "execution_count": 12,
     "metadata": {},
     "output_type": "execute_result"
    }
   ],
   "source": [
    "# Creating artifical data to capture conflicting labels\n",
    "df = pd.DataFrame({'col1': ['1', '1.0', '3'],\n",
    "                   'col2': [2.0, np.NaN, '6'],\n",
    "                   'label': ['y1', 'y2', 'y3']})\n",
    "\n",
    "df\n",
    "\n",
    "# Note: Row_1 & Row_2 contains same values in independent variables but different dependent variable value\n"
   ]
  },
  {
   "cell_type": "code",
   "execution_count": 15,
   "metadata": {},
   "outputs": [
    {
     "name": "stderr",
     "output_type": "stream",
     "text": [
      "deepchecks - WARNING - It is recommended to initialize Dataset with categorical features by doing \"Dataset(df, cat_features=categorical_list)\". No categorical features were passed, therefore heuristically inferring categorical features in the data. 1 categorical features were inferred.: label\n"
     ]
    },
    {
     "data": {
      "application/vnd.jupyter.widget-view+json": {
       "model_id": "6e9abdd609fb4facaa0127df0b4ee468",
       "version_major": 2,
       "version_minor": 0
      },
      "text/plain": [
       "VBox(children=(HTML(value='<h4><b>Mixed Data Types</b></h4>'), HTML(value='<p>Detect columns which contain a m…"
      ]
     },
     "metadata": {},
     "output_type": "display_data"
    }
   ],
   "source": [
    "from deepchecks.tabular import Dataset\n",
    "from deepchecks.tabular.checks import MixedDataTypes\n",
    "\n",
    "adult_dataset = Dataset(df) #cat_features=['workclass', 'education'])\n",
    "check = MixedDataTypes()\n",
    "result = check.run(adult_dataset)\n",
    "result.show(show_additional_outputs=True)"
   ]
  },
  {
   "cell_type": "code",
   "execution_count": 3,
   "metadata": {},
   "outputs": [],
   "source": [
    "def check_conflicting_labels(df, label_col, **kwargs):\n",
    "    \"\"\"\n",
    "    Running a check to produce a report that captures if there are conflicting labels \n",
    "    for identical data instances.\n",
    "\n",
    "    Args:\n",
    "        df (pd.DataFrame): The pandas dataframe to do the check of the labels\n",
    "        label_col (str): The response variable\n",
    "        **kwargs (dict): Keyword arguments for the deepchecks Dataset() object\n",
    "\n",
    "    \"\"\"\n",
    "    # To use the deepchecks package, the pd.DataFrame needs to be converted to a Dataset object\n",
    "    # Documentation: https://docs.deepchecks.com/en/stable/user-guide/tabular/dataset_object.html\n",
    "    db_df = Dataset(df, label=label_col, **kwargs)\n",
    "\n",
    "    # Execute the check to produce the conflicting labels report\n",
    "    display(ConflictingLabels().run(db_df))"
   ]
  },
  {
   "cell_type": "code",
   "execution_count": 4,
   "metadata": {},
   "outputs": [
    {
     "name": "stderr",
     "output_type": "stream",
     "text": [
      "deepchecks - WARNING - It is recommended to initialize Dataset with categorical features by doing \"Dataset(df, cat_features=categorical_list)\". No categorical features were passed, therefore heuristically inferring categorical features in the data. 3 categorical features were inferred.: col1, col2, col3\n"
     ]
    },
    {
     "data": {
      "application/vnd.jupyter.widget-view+json": {
       "model_id": "efe0e5b1e6ab43b4bd48bd0d067a25c5",
       "version_major": 2,
       "version_minor": 0
      },
      "text/plain": [
       "VBox(children=(HTML(value='<h4><b>Conflicting Labels</b></h4>'), HTML(value=\"<p>Find samples which have the ex…"
      ]
     },
     "metadata": {},
     "output_type": "display_data"
    }
   ],
   "source": [
    "check_conflicting_labels(df, label_col='label')"
   ]
  },
  {
   "cell_type": "code",
   "execution_count": 16,
   "metadata": {},
   "outputs": [
    {
     "data": {
      "application/vnd.jupyter.widget-view+json": {
       "model_id": "03ee7e17a220458d8cf0f83283b30432",
       "version_major": 2,
       "version_minor": 0
      },
      "text/plain": [
       "VBox(children=(HTML(value='<h4><b>Mixed Data Types</b></h4>'), HTML(value='<p>Detect columns which contain a m…"
      ]
     },
     "metadata": {},
     "output_type": "display_data"
    }
   ],
   "source": [
    "# -*- coding: utf-8 -*-\n",
    "\"\"\"\n",
    ".. _plot_tabular_mixed_data_types:\n",
    "\n",
    "Mixed Data Types\n",
    "****************\n",
    "\n",
    "This notebooks provides an overview for using and understanding the mixed data types check.\n",
    "\n",
    "**Structure:**\n",
    "\n",
    "* `What are Mixed Data Types? <#what-are-mixed-data-types>`__\n",
    "* `Run the Check <#run-the-check>`__\n",
    "* `Define a Condition <#define-a-condition>`__\n",
    "\n",
    "What are Mixed Data Types?\n",
    "==========================\n",
    "Mixed data types is when a column contains both string values and numeric values (either as numeric type or\n",
    "as string like \"42.90\"). This may indicate a problem in the data collection pipeline, or represent a\n",
    "problem situation for the model's training.\n",
    "\n",
    "This checks searches for columns with a mix of strings and numeric values and returns them and their respective ratios.\n",
    "\n",
    "Run the Check\n",
    "=============\n",
    "We will run the check on the adult dataset which can be downloaded from the\n",
    "`UCI machine learning repository <http://archive.ics.uci.edu/ml>`_ and is also available in\n",
    "`deepchecks.tabular.datasets`, and introduce to it some data type mixing in order to show the check's result.\n",
    "\"\"\"\n",
    "\n",
    "import pandas as pd\n",
    "import numpy as np\n",
    "from deepchecks.tabular.datasets.classification import adult\n",
    "\n",
    "# Prepare functions to insert mixed data types\n",
    "\n",
    "def insert_new_values_types(col: pd.Series, ratio_to_replace: float, values_list):\n",
    "    col = col.to_numpy().astype(object)\n",
    "    indices_to_replace = np.random.choice(range(len(col)), int(len(col) * ratio_to_replace), replace=False)\n",
    "    new_values = np.random.choice(values_list, len(indices_to_replace))\n",
    "    col[indices_to_replace] = new_values\n",
    "    return col\n",
    "\n",
    "\n",
    "def insert_string_types(col: pd.Series, ratio_to_replace):\n",
    "    return insert_new_values_types(col, ratio_to_replace, ['a', 'b', 'c'])\n",
    "\n",
    "\n",
    "def insert_numeric_string_types(col: pd.Series, ratio_to_replace):\n",
    "    return insert_new_values_types(col, ratio_to_replace, ['1.0', '1', '10394.33'])\n",
    "\n",
    "\n",
    "def insert_number_types(col: pd.Series, ratio_to_replace):\n",
    "    return insert_new_values_types(col, ratio_to_replace, [66, 99.9])\n",
    "\n",
    "\n",
    "# Load dataset and insert some data type mixing\n",
    "adult_df, _ = adult.load_data(as_train_test=True, data_format='Dataframe')\n",
    "adult_df['workclass'] = insert_numeric_string_types(adult_df['workclass'], ratio_to_replace=0.01)\n",
    "adult_df['education'] = insert_number_types(adult_df['education'], ratio_to_replace=0.1)\n",
    "adult_df['age'] = insert_string_types(adult_df['age'], ratio_to_replace=0.5)\n",
    "\n",
    "#%%\n",
    "\n",
    "from deepchecks.tabular import Dataset\n",
    "from deepchecks.tabular.checks import MixedDataTypes\n",
    "\n",
    "adult_dataset = Dataset(adult_df, cat_features=['workclass', 'education'])\n",
    "check = MixedDataTypes()\n",
    "result = check.run(adult_dataset)\n",
    "result\n"
   ]
  },
  {
   "cell_type": "code",
   "execution_count": 17,
   "metadata": {},
   "outputs": [
    {
     "data": {
      "application/vnd.jupyter.widget-view+json": {
       "model_id": "27271d1b862c4250a0c4a8f0e8928ef1",
       "version_major": 2,
       "version_minor": 0
      },
      "text/plain": [
       "VBox(children=(HTML(value='<h4><b>Mixed Data Types</b></h4>'), HTML(value='<p>Detect columns which contain a m…"
      ]
     },
     "metadata": {},
     "output_type": "display_data"
    }
   ],
   "source": [
    "\n",
    "#%%\n",
    "# Define a Condition\n",
    "# ==================\n",
    "# We can define a condition that enforces the ratio of the \"rare type\" (the less common type, either numeric or string)\n",
    "# is not in a given range. The range represents the dangerous zone, when the ratio is lower than the lower bound, then\n",
    "# it's presumably a contamination but a negligible one, and when the ratio is higher than the upper bound, then it's\n",
    "# presumably supposed to contain both numbers and string values. So when the ratio is inside the range there is a real\n",
    "# chance that the rarer data type may represent a problem to model training and inference.\n",
    "\n",
    "check = MixedDataTypes().add_condition_rare_type_ratio_not_in_range((0.01, 0.2))\n",
    "result = check.run(adult_dataset)\n",
    "result.show(show_additional_outputs=False)\n"
   ]
  },
  {
   "cell_type": "code",
   "execution_count": null,
   "metadata": {},
   "outputs": [],
   "source": []
  }
 ],
 "metadata": {
  "kernelspec": {
   "display_name": "Python 3.8.9 ('venv': venv)",
   "language": "python",
   "name": "python3"
  },
  "language_info": {
   "codemirror_mode": {
    "name": "ipython",
    "version": 3
   },
   "file_extension": ".py",
   "mimetype": "text/x-python",
   "name": "python",
   "nbconvert_exporter": "python",
   "pygments_lexer": "ipython3",
   "version": "3.9.6"
  },
  "orig_nbformat": 4,
  "vscode": {
   "interpreter": {
    "hash": "ac928d85886161343f44c093ac8b1c8e127c4c42da493aaa7b5bb7af014a946e"
   }
  }
 },
 "nbformat": 4,
 "nbformat_minor": 2
}
