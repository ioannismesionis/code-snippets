{
 "cells": [
  {
   "cell_type": "code",
   "execution_count": 1,
   "metadata": {},
   "outputs": [],
   "source": [
    "# Import packages\n",
    "import pandas as pd\n",
    "\n",
    "# Import Deepchecks packages\n",
    "from deepchecks.tabular import Dataset\n",
    "from deepchecks.tabular.checks import ConflictingLabels"
   ]
  },
  {
   "cell_type": "code",
   "execution_count": 2,
   "metadata": {},
   "outputs": [
    {
     "data": {
      "text/html": [
       "<div>\n",
       "<style scoped>\n",
       "    .dataframe tbody tr th:only-of-type {\n",
       "        vertical-align: middle;\n",
       "    }\n",
       "\n",
       "    .dataframe tbody tr th {\n",
       "        vertical-align: top;\n",
       "    }\n",
       "\n",
       "    .dataframe thead th {\n",
       "        text-align: right;\n",
       "    }\n",
       "</style>\n",
       "<table border=\"1\" class=\"dataframe\">\n",
       "  <thead>\n",
       "    <tr style=\"text-align: right;\">\n",
       "      <th></th>\n",
       "      <th>col1</th>\n",
       "      <th>col2</th>\n",
       "      <th>col3</th>\n",
       "      <th>label</th>\n",
       "    </tr>\n",
       "  </thead>\n",
       "  <tbody>\n",
       "    <tr>\n",
       "      <th>0</th>\n",
       "      <td>1</td>\n",
       "      <td>2</td>\n",
       "      <td>3</td>\n",
       "      <td>y1</td>\n",
       "    </tr>\n",
       "    <tr>\n",
       "      <th>1</th>\n",
       "      <td>1</td>\n",
       "      <td>2</td>\n",
       "      <td>3</td>\n",
       "      <td>y2</td>\n",
       "    </tr>\n",
       "    <tr>\n",
       "      <th>2</th>\n",
       "      <td>3</td>\n",
       "      <td>6</td>\n",
       "      <td>9</td>\n",
       "      <td>y3</td>\n",
       "    </tr>\n",
       "  </tbody>\n",
       "</table>\n",
       "</div>"
      ],
      "text/plain": [
       "   col1  col2  col3 label\n",
       "0     1     2     3    y1\n",
       "1     1     2     3    y2\n",
       "2     3     6     9    y3"
      ]
     },
     "execution_count": 2,
     "metadata": {},
     "output_type": "execute_result"
    }
   ],
   "source": [
    "# Creating artifical data to capture conflicting labels\n",
    "df = pd.DataFrame({'col1': [1, 1, 3],\n",
    "                   'col2': [2, 2, 6],\n",
    "                   'col3': [3, 3, 9],\n",
    "                   'label': ['y1', 'y2', 'y3']})\n",
    "\n",
    "df\n",
    "\n",
    "# Note: Row_1 & Row_2 contains same values in independent variables but different dependent variable value\n"
   ]
  },
  {
   "cell_type": "code",
   "execution_count": 3,
   "metadata": {},
   "outputs": [],
   "source": [
    "def check_conflicting_labels(df, label_col, **kwargs):\n",
    "    \"\"\"\n",
    "    Running a check to produce a report that captures if there are conflicting labels \n",
    "    for identical data instances.\n",
    "\n",
    "    Args:\n",
    "        df (pd.DataFrame): The pandas dataframe to do the check of the labels\n",
    "        label_col (str): The response variable\n",
    "        **kwargs (dict): Keyword arguments for the deepchecks Dataset() object\n",
    "\n",
    "    \"\"\"\n",
    "    # To use the deepchecks package, the pd.DataFrame needs to be converted to a Dataset object\n",
    "    # Documentation: https://docs.deepchecks.com/en/stable/user-guide/tabular/dataset_object.html\n",
    "    db_df = Dataset(df, label=label_col, **kwargs)\n",
    "\n",
    "    # Execute the check to produce the conflicting labels report\n",
    "    display(ConflictingLabels().run(db_df))"
   ]
  },
  {
   "cell_type": "code",
   "execution_count": 4,
   "metadata": {},
   "outputs": [
    {
     "name": "stderr",
     "output_type": "stream",
     "text": [
      "deepchecks - WARNING - It is recommended to initialize Dataset with categorical features by doing \"Dataset(df, cat_features=categorical_list)\". No categorical features were passed, therefore heuristically inferring categorical features in the data. 3 categorical features were inferred.: col1, col2, col3\n"
     ]
    },
    {
     "data": {
      "application/vnd.jupyter.widget-view+json": {
       "model_id": "efe0e5b1e6ab43b4bd48bd0d067a25c5",
       "version_major": 2,
       "version_minor": 0
      },
      "text/plain": [
       "VBox(children=(HTML(value='<h4><b>Conflicting Labels</b></h4>'), HTML(value=\"<p>Find samples which have the ex…"
      ]
     },
     "metadata": {},
     "output_type": "display_data"
    }
   ],
   "source": [
    "check_conflicting_labels(df, label_col='label')"
   ]
  },
  {
   "cell_type": "code",
   "execution_count": null,
   "metadata": {},
   "outputs": [],
   "source": []
  }
 ],
 "metadata": {
  "kernelspec": {
   "display_name": "Python 3.8.9 ('venv': venv)",
   "language": "python",
   "name": "python3"
  },
  "language_info": {
   "codemirror_mode": {
    "name": "ipython",
    "version": 3
   },
   "file_extension": ".py",
   "mimetype": "text/x-python",
   "name": "python",
   "nbconvert_exporter": "python",
   "pygments_lexer": "ipython3",
   "version": "3.9.6"
  },
  "orig_nbformat": 4,
  "vscode": {
   "interpreter": {
    "hash": "ac928d85886161343f44c093ac8b1c8e127c4c42da493aaa7b5bb7af014a946e"
   }
  }
 },
 "nbformat": 4,
 "nbformat_minor": 2
}
